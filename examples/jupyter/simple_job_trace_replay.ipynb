{
 "cells": [
  {
   "cell_type": "markdown",
   "metadata": {},
   "source": [
    "# Simple Ten Node Cluster: Jobs Traces Replay\n",
    "\n",
    "Simple Ten Node Cluster is homoginious cluster containing only ten nodes. The scheduler it simple First Come First Served with a backfiller.\n",
    "\n",
    "Here we will examing the effect of backfiller.\n"
   ]
  },
  {
   "cell_type": "code",
   "execution_count": 1,
   "metadata": {},
   "outputs": [],
   "source": [
    "# Load Used Packages\n",
    "using Random\n",
    "using Agents\n",
    "using HPCMod\n",
    "using Printf\n",
    "using DataFrames\n",
    "using DataStructures"
   ]
  },
  {
   "cell_type": "markdown",
   "metadata": {},
   "source": [
    "`job_trace` specified jobs which will be submitted. We use `DataFrame` to specify parameters:\n",
    "* `submit_time` - submit time in hours\n",
    "* `user_id` - user id\n",
    "* `nodes` - requested number of nodes\n",
    "* `walltime`- requested walltime"
   ]
  },
  {
   "cell_type": "code",
   "execution_count": 2,
   "metadata": {},
   "outputs": [
    {
     "data": {
      "text/html": [
       "<div><div style = \"float: left;\"><span>6×4 DataFrame</span></div><div style = \"clear: both;\"></div></div><div class = \"data-frame\" style = \"overflow-x: scroll;\"><table class = \"data-frame\" style = \"margin-bottom: 6px;\"><thead><tr class = \"header\"><th class = \"rowNumber\" style = \"font-weight: bold; text-align: right;\">Row</th><th style = \"text-align: left;\">submit_time</th><th style = \"text-align: left;\">user_id</th><th style = \"text-align: left;\">nodes</th><th style = \"text-align: left;\">walltime</th></tr><tr class = \"subheader headerLastRow\"><th class = \"rowNumber\" style = \"font-weight: bold; text-align: right;\"></th><th title = \"Int64\" style = \"text-align: left;\">Int64</th><th title = \"Int64\" style = \"text-align: left;\">Int64</th><th title = \"Int64\" style = \"text-align: left;\">Int64</th><th title = \"Int64\" style = \"text-align: left;\">Int64</th></tr></thead><tbody><tr><td class = \"rowNumber\" style = \"font-weight: bold; text-align: right;\">1</td><td style = \"text-align: right;\">2</td><td style = \"text-align: right;\">1</td><td style = \"text-align: right;\">2</td><td style = \"text-align: right;\">2</td></tr><tr><td class = \"rowNumber\" style = \"font-weight: bold; text-align: right;\">2</td><td style = \"text-align: right;\">3</td><td style = \"text-align: right;\">2</td><td style = \"text-align: right;\">2</td><td style = \"text-align: right;\">2</td></tr><tr><td class = \"rowNumber\" style = \"font-weight: bold; text-align: right;\">3</td><td style = \"text-align: right;\">4</td><td style = \"text-align: right;\">2</td><td style = \"text-align: right;\">3</td><td style = \"text-align: right;\">3</td></tr><tr><td class = \"rowNumber\" style = \"font-weight: bold; text-align: right;\">4</td><td style = \"text-align: right;\">5</td><td style = \"text-align: right;\">2</td><td style = \"text-align: right;\">2</td><td style = \"text-align: right;\">2</td></tr><tr><td class = \"rowNumber\" style = \"font-weight: bold; text-align: right;\">5</td><td style = \"text-align: right;\">5</td><td style = \"text-align: right;\">1</td><td style = \"text-align: right;\">2</td><td style = \"text-align: right;\">2</td></tr><tr><td class = \"rowNumber\" style = \"font-weight: bold; text-align: right;\">6</td><td style = \"text-align: right;\">6</td><td style = \"text-align: right;\">1</td><td style = \"text-align: right;\">1</td><td style = \"text-align: right;\">3</td></tr></tbody></table></div>"
      ],
      "text/latex": [
       "\\begin{tabular}{r|cccc}\n",
       "\t& submit\\_time & user\\_id & nodes & walltime\\\\\n",
       "\t\\hline\n",
       "\t& Int64 & Int64 & Int64 & Int64\\\\\n",
       "\t\\hline\n",
       "\t1 & 2 & 1 & 2 & 2 \\\\\n",
       "\t2 & 3 & 2 & 2 & 2 \\\\\n",
       "\t3 & 4 & 2 & 3 & 3 \\\\\n",
       "\t4 & 5 & 2 & 2 & 2 \\\\\n",
       "\t5 & 5 & 1 & 2 & 2 \\\\\n",
       "\t6 & 6 & 1 & 1 & 3 \\\\\n",
       "\\end{tabular}\n"
      ],
      "text/plain": [
       "\u001b[1m6×4 DataFrame\u001b[0m\n",
       "\u001b[1m Row \u001b[0m│\u001b[1m submit_time \u001b[0m\u001b[1m user_id \u001b[0m\u001b[1m nodes \u001b[0m\u001b[1m walltime \u001b[0m\n",
       "     │\u001b[90m Int64       \u001b[0m\u001b[90m Int64   \u001b[0m\u001b[90m Int64 \u001b[0m\u001b[90m Int64    \u001b[0m\n",
       "─────┼───────────────────────────────────────\n",
       "   1 │           2        1      2         2\n",
       "   2 │           3        2      2         2\n",
       "   3 │           4        2      3         3\n",
       "   4 │           5        2      2         2\n",
       "   5 │           5        1      2         2\n",
       "   6 │           6        1      1         3"
      ]
     },
     "execution_count": 2,
     "metadata": {},
     "output_type": "execute_result"
    }
   ],
   "source": [
    "job_trace = DataFrame([\n",
    "    2 1 2 2;\n",
    "    3 2 2 2;\n",
    "    4 2 3 3;\n",
    "    5 2 2 2;\n",
    "    5 1 2 2;\n",
    "    6 1 1 3;\n",
    "], [\n",
    "    \"submit_time\", \"user_id\", \"nodes\", \"walltime\"\n",
    "])"
   ]
  },
  {
   "cell_type": "markdown",
   "metadata": {},
   "source": [
    "## Run without Backfill Scheduler"
   ]
  },
  {
   "cell_type": "code",
   "execution_count": 3,
   "metadata": {},
   "outputs": [
    {
     "name": "stdout",
     "output_type": "stream",
     "text": [
      "\u001b[1m14×5 DataFrame\u001b[0m\n",
      "\u001b[1m Row \u001b[0m│\u001b[1m t     \u001b[0m\u001b[1m N0001 \u001b[0m\u001b[1m N0002 \u001b[0m\u001b[1m N0003 \u001b[0m\u001b[1m N0004 \u001b[0m\n",
      "     │\u001b[90m Int64 \u001b[0m\u001b[90m Int64 \u001b[0m\u001b[90m Int64 \u001b[0m\u001b[90m Int64 \u001b[0m\u001b[90m Int64 \u001b[0m\n",
      "─────┼───────────────────────────────────\n",
      "   1 │     0      0      0      0      0\n",
      "   2 │     1      0      0      0      0\n",
      "   3 │     2      1      1      0      0\n",
      "   4 │     3      1      1      2      2\n",
      "   5 │     4      0      0      2      2\n",
      "   6 │     5      3      3      3      0\n",
      "   7 │     6      3      3      3      0\n",
      "   8 │     7      3      3      3      0\n",
      "   9 │     8      5      5      4      4\n",
      "  10 │     9      5      5      4      4\n",
      "  11 │    10      6      0      0      0\n",
      "  12 │    11      6      0      0      0\n",
      "  13 │    12      6      0      0      0\n",
      "  14 │    13      0      0      0      0\n"
     ]
    }
   ],
   "source": [
    "sim = jobs_replay_on_resource(\n",
    "    job_trace; \n",
    "    nodes=4, \n",
    "    scheduler_backfill=false, \n",
    "    workload_done_check_freq=1, \n",
    "    rng=Random.Xoshiro(123))\n",
    "println(sim.resource.stats.node_occupancy_by_job)"
   ]
  },
  {
   "cell_type": "markdown",
   "metadata": {},
   "source": [
    "The tables above show nodes occupience by job at a given time.\n",
    "0-means no jobs running on that node, otherwise show job id.\n",
    "\n",
    "## Lets Try Same But with Backfiller"
   ]
  },
  {
   "cell_type": "code",
   "execution_count": 4,
   "metadata": {},
   "outputs": [
    {
     "name": "stdout",
     "output_type": "stream",
     "text": [
      "\u001b[1m12×5 DataFrame\u001b[0m\n",
      "\u001b[1m Row \u001b[0m│\u001b[1m t     \u001b[0m\u001b[1m N0001 \u001b[0m\u001b[1m N0002 \u001b[0m\u001b[1m N0003 \u001b[0m\u001b[1m N0004 \u001b[0m\n",
      "     │\u001b[90m Int64 \u001b[0m\u001b[90m Int64 \u001b[0m\u001b[90m Int64 \u001b[0m\u001b[90m Int64 \u001b[0m\u001b[90m Int64 \u001b[0m\n",
      "─────┼───────────────────────────────────\n",
      "   1 │     0      0      0      0      0\n",
      "   2 │     1      0      0      0      0\n",
      "   3 │     2      1      1      0      0\n",
      "   4 │     3      1      1      2      2\n",
      "   5 │     4      0      0      2      2\n",
      "   6 │     5      3      3      3      0\n",
      "   7 │     6      3      3      3      6\n",
      "   8 │     7      3      3      3      6\n",
      "   9 │     8      5      5      0      6\n",
      "  10 │     9      5      5      4      4\n",
      "  11 │    10      0      0      4      4\n",
      "  12 │    11      0      0      0      0\n"
     ]
    }
   ],
   "source": [
    "sim = jobs_replay_on_resource(\n",
    "    job_trace; \n",
    "    nodes=4, \n",
    "    scheduler_backfill=true, \n",
    "    workload_done_check_freq=1, \n",
    "    rng=Random.Xoshiro(123))\n",
    "\n",
    "println(sim.resource.stats.node_occupancy_by_job)"
   ]
  },
  {
   "cell_type": "markdown",
   "metadata": {},
   "source": [
    "Job 6 was scheduler earlier through backfill"
   ]
  }
 ],
 "metadata": {
  "kernelspec": {
   "display_name": "Julia 1.10.2",
   "language": "julia",
   "name": "julia-1.10"
  },
  "language_info": {
   "file_extension": ".jl",
   "mimetype": "application/julia",
   "name": "julia",
   "version": "1.10.2"
  }
 },
 "nbformat": 4,
 "nbformat_minor": 2
}
